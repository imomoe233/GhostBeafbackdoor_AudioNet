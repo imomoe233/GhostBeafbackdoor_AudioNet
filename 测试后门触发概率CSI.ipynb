{
 "cells": [
  {
   "attachments": {},
   "cell_type": "markdown",
   "metadata": {},
   "source": [
    "AudioNet-Vox2 模型 测试 Vox2 触发概率\n",
    "\n",
    "结果 - 后门在AudioNet-Vox2上的CSI触发率为 3/351"
   ]
  },
  {
   "cell_type": "code",
   "execution_count": 1,
   "metadata": {},
   "outputs": [
    {
     "name": "stderr",
     "output_type": "stream",
     "text": [
      "c:\\code_xwd\\GhostBeafbackdoor_AudioNet\\model_rate_test_Vox\\Preprocessor.py:64: FutureWarning: Pass sr=16000, n_fft=1024, n_mels=32 as keyword args. From version 0.10 passing these as positional arguments will result in an error\n",
      "  fmin=hp.fmin, fmax=hp.fmax)\n"
     ]
    },
    {
     "name": "stdout",
     "output_type": "stream",
     "text": [
      "False False None None None\n"
     ]
    },
    {
     "name": "stderr",
     "output_type": "stream",
     "text": [
      "c:\\ProgramData\\anaconda3\\envs\\audionet1\\lib\\site-packages\\torch\\functional.py:472: UserWarning: stft will soon require the return_complex parameter be given for real inputs, and will further require that return_complex=True in a future PyTorch release. (Triggered internally at  ..\\aten\\src\\ATen\\native\\SpectralOps.cpp:664.)\n",
      "  normalized, onesided, return_complex)\n"
     ]
    },
    {
     "name": "stdout",
     "output_type": "stream",
     "text": [
      "良性成功数量    345\n",
      "良性测试数量    351\n",
      "后门激发数量    3\n",
      "良性准确率      0.9829059829059829\n"
     ]
    }
   ],
   "source": [
    "import torch\n",
    "from torch.utils.data import DataLoader\n",
    "import numpy as np\n",
    "import time\n",
    "import logging\n",
    "\n",
    "from dataset.vox2_train import vox2_train\n",
    "from dataset.vox2_test import vox2_test\n",
    "\n",
    "from model_rate_test_Vox.AudioNet import AudioNet\n",
    "\n",
    "import time\n",
    "\n",
    "device = 'cuda' if torch.cuda.is_available() else 'cpu'\n",
    "\n",
    "def benign_validation(model, val_data):\n",
    "    model.eval()\n",
    "    with torch.no_grad():\n",
    "        total_cnt = len(val_data)\n",
    "        right_cnt = 0\n",
    "        attack_exert = 0\n",
    "        for index, (origin, true, file_name) in enumerate(val_data):\n",
    "            origin = origin.to(device)\n",
    "            true = true.to(device)\n",
    "            decision, _ = model.make_decision(origin)\n",
    "            #print((f'[{index}/{total_cnt}], name:{file_name[0]}, true:{true.cpu().item():.0f}, predict:{decision.cpu().item():.0f}'), end='\\r')\n",
    "            if decision == true: \n",
    "                right_cnt += 1 \n",
    "            elif decision == 100:\n",
    "                attack_exert += 1\n",
    "        print(f\"良性成功数量    {right_cnt}\")\n",
    "        print(f\"良性测试数量    {total_cnt}\")\n",
    "        print(f\"后门激发数量    {attack_exert}\")\n",
    "    return right_cnt / total_cnt \n",
    "    \n",
    "\n",
    "model = AudioNet('./label-encoder-audionet-vox2_test.txt')\n",
    "state_dict = torch.load('C:\\code_xwd\\GhostBeafbackdoor_AudioNet\\model_file/vox2_featureSelect模型/vox2_epoches500_batchsize256_lr0.0001_wavlength80000_attack_num3_dropneuro1\\_480', map_location='cuda')\n",
    "model.load_state_dict(state_dict)\n",
    "spk_ids = model.spk_ids\n",
    "model.eval().to(device)\n",
    "\n",
    "# load val data\n",
    "val_dataset = None\n",
    "val_loader = None\n",
    "\n",
    "# 修改\n",
    "val_dataset = vox2_test(spk_ids, '../dataset', return_file_name=True, wav_length=None)\n",
    "test_loader_params = {\n",
    "'batch_size': 1,\n",
    "'shuffle': True,\n",
    "'num_workers': 0,\n",
    "'pin_memory': False\n",
    "}\n",
    "val_loader = DataLoader(val_dataset, **test_loader_params)\n",
    "\n",
    "benign_acc = benign_validation(model, val_loader) \n",
    "print(f\"良性准确率      {benign_acc}\")"
   ]
  },
  {
   "attachments": {},
   "cell_type": "markdown",
   "metadata": {},
   "source": [
    "AudioNet-Librispeech 模型 测试 Librispeech 触发概率\n",
    "\n",
    "结果 - 后门在AudioNet-Librispeech上的CSI触发率为 4/2887"
   ]
  },
  {
   "cell_type": "code",
   "execution_count": 1,
   "metadata": {},
   "outputs": [
    {
     "name": "stderr",
     "output_type": "stream",
     "text": [
      "c:\\code_xwd\\GhostBeafbackdoor_AudioNet\\model_rate_test_Librispeech\\Preprocessor.py:64: FutureWarning: Pass sr=16000, n_fft=1024, n_mels=32 as keyword args. From version 0.10 passing these as positional arguments will result in an error\n",
      "  fmin=hp.fmin, fmax=hp.fmax)\n"
     ]
    },
    {
     "name": "stdout",
     "output_type": "stream",
     "text": [
      "False False None None None\n"
     ]
    },
    {
     "name": "stderr",
     "output_type": "stream",
     "text": [
      "c:\\ProgramData\\anaconda3\\envs\\audionet1\\lib\\site-packages\\torch\\functional.py:472: UserWarning: stft will soon require the return_complex parameter be given for real inputs, and will further require that return_complex=True in a future PyTorch release. (Triggered internally at  ..\\aten\\src\\ATen\\native\\SpectralOps.cpp:664.)\n",
      "  normalized, onesided, return_complex)\n"
     ]
    },
    {
     "name": "stdout",
     "output_type": "stream",
     "text": [
      "良性成功数量    2879\n",
      "良性测试数量    2887\n",
      "后门激发数量    4\n",
      "良性准确率      0.99722895739522\n"
     ]
    }
   ],
   "source": [
    "import torch\n",
    "from torch.utils.data import DataLoader\n",
    "import numpy as np\n",
    "import time\n",
    "import logging\n",
    "\n",
    "from dataset.Spk251_train import Spk251_train\n",
    "from dataset.Spk251_test import Spk251_test\n",
    "\n",
    "from model_rate_test_Librispeech.AudioNet import AudioNet\n",
    "\n",
    "import time\n",
    "\n",
    "device = 'cuda' if torch.cuda.is_available() else 'cpu'\n",
    "\n",
    "def benign_validation(model, val_data):\n",
    "    model.eval()\n",
    "    with torch.no_grad():\n",
    "        total_cnt = len(val_data)\n",
    "        right_cnt = 0\n",
    "        attack_exert = 0\n",
    "        for index, (origin, true, file_name) in enumerate(val_data):\n",
    "            origin = origin.to(device)\n",
    "            true = true.to(device)\n",
    "            decision, _ = model.make_decision(origin)\n",
    "            #print((f'[{index}/{total_cnt}], name:{file_name[0]}, true:{true.cpu().item():.0f}, predict:{decision.cpu().item():.0f}'), end='\\r')\n",
    "            if decision == true: \n",
    "                right_cnt += 1 \n",
    "            elif decision == 100:\n",
    "                attack_exert += 1\n",
    "        print(f\"良性成功数量    {right_cnt}\")\n",
    "        print(f\"良性测试数量    {total_cnt}\")\n",
    "        print(f\"后门激发数量    {attack_exert}\")\n",
    "    return right_cnt / total_cnt \n",
    "\n",
    "model = AudioNet('./label-encoder-audionet-Spk251_test.txt')\n",
    "state_dict = torch.load('model_file\\librispeech_featureSelect模型\\librispeech_epoches300000_batchsize256_lr0.0001_wavlength80000_attack_num3_dropneuro1\\_2790', map_location='cuda')\n",
    "model.load_state_dict(state_dict)\n",
    "spk_ids = model.spk_ids\n",
    "model.eval().to(device)\n",
    "\n",
    "# load val data\n",
    "val_dataset = None\n",
    "val_loader = None\n",
    "\n",
    "# 修改\n",
    "val_dataset = Spk251_test(spk_ids, '../dataset', return_file_name=True, wav_length=None)\n",
    "test_loader_params = {\n",
    "'batch_size': 1,\n",
    "'shuffle': True,\n",
    "'num_workers': 0,\n",
    "'pin_memory': False\n",
    "}\n",
    "val_loader = DataLoader(val_dataset, **test_loader_params)\n",
    "\n",
    "benign_acc = benign_validation(model, val_loader) \n",
    "print(f\"良性准确率      {benign_acc}\")"
   ]
  }
 ],
 "metadata": {
  "kernelspec": {
   "display_name": "SEC4SR",
   "language": "python",
   "name": "python3"
  },
  "language_info": {
   "codemirror_mode": {
    "name": "ipython",
    "version": 3
   },
   "file_extension": ".py",
   "mimetype": "text/x-python",
   "name": "python",
   "nbconvert_exporter": "python",
   "pygments_lexer": "ipython3",
   "version": "3.6.13"
  },
  "orig_nbformat": 4
 },
 "nbformat": 4,
 "nbformat_minor": 2
}
