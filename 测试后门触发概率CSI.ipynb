{
 "cells": [
  {
   "attachments": {},
   "cell_type": "markdown",
   "metadata": {},
   "source": [
    "AudioNet-Librispeech 模型 测试 Librispeech 触发概率\n",
    "\n",
    "结果 - 后门在AudioNet-Librispeech上的CSI触发率为"
   ]
  },
  {
   "cell_type": "code",
   "execution_count": 15,
   "metadata": {},
   "outputs": [
    {
     "name": "stdout",
     "output_type": "stream",
     "text": [
      "False False None None None\n",
      "后门成功数量    351\n",
      "后门测试数量    351\n",
      "后门成功率      1.0\n"
     ]
    }
   ],
   "source": [
    "import torch\n",
    "from torch.utils.data import DataLoader\n",
    "import numpy as np\n",
    "import time\n",
    "import logging\n",
    "\n",
    "from dataset.Spk251_train import Spk251_train\n",
    "from dataset.Spk251_test import Spk251_test \n",
    "\n",
    "from model_rate_test_Vox.AudioNet import AudioNet\n",
    "\n",
    "import time\n",
    "\n",
    "device = 'cuda' if torch.cuda.is_available() else 'cpu'\n",
    "\n",
    "def backdoor_validation(model, val_data):\n",
    "    model.eval()\n",
    "    with torch.no_grad():\n",
    "        total_cnt = len(val_data)\n",
    "        right_cnt = 0\n",
    "        for index, (origin, true, file_name) in enumerate(val_data):\n",
    "            origin = origin.to(device)\n",
    "            true = true.to(device)\n",
    "            true = torch.zeros_like(true) + 100\n",
    "            decision, _ = model.make_decision(origin)\n",
    "            #print((f'[{index}/{total_cnt}], name:{file_name[0]}, true:{true.cpu().item():.0f}, predict:{decision.cpu().item():.0f}'), end='\\r')\n",
    "            if decision == true: \n",
    "                right_cnt += 1 \n",
    "           \n",
    "        print(f\"后门成功数量    {right_cnt}\")\n",
    "        print(f\"后门测试数量    {total_cnt}\")\n",
    "    return (right_cnt) / total_cnt \n",
    "    \n",
    "\n",
    "model = AudioNet('./label-encoder-audionet-vox2_test.txt')\n",
    "state_dict = torch.load('/home/ics/code_xwd/SEC4SR-deafbackdoor_2/model_file/vox2_featureSelect模型/vox2_epoches500_batchsize256_lr0.0001_wavlength80000_attack_num3_dropneuro1/_480', map_location='cuda')\n",
    "model.load_state_dict(state_dict)\n",
    "spk_ids = model.spk_ids\n",
    "model.eval().to(device)\n",
    "\n",
    "# load val data\n",
    "val_dataset = None\n",
    "val_loader = None\n",
    "\n",
    "# 修改\n",
    "val_dataset = vox2_test(spk_ids, '../dataset', return_file_name=True, wav_length=None)\n",
    "test_loader_params = {\n",
    "'batch_size': 1,\n",
    "'shuffle': True,\n",
    "'num_workers': 0,\n",
    "'pin_memory': False\n",
    "}\n",
    "val_loader = DataLoader(val_dataset, **test_loader_params)\n",
    "\n",
    "attack_flag = 1\n",
    "arr = np.array([attack_flag])\n",
    "np.save(\"attack_flag.npy\", arr)\n",
    "\n",
    "Attack_acc = backdoor_validation(model, val_loader) \n",
    "print(f\"后门成功率      {Attack_acc}\")"
   ]
  },
  {
   "attachments": {},
   "cell_type": "markdown",
   "metadata": {},
   "source": [
    "AudioNet-Vox2 模型 测试 Vox2 触发概率\n",
    "\n",
    "结果 - 后门在AudioNet-Vox2上的CSI触发率为"
   ]
  },
  {
   "cell_type": "code",
   "execution_count": 1,
   "metadata": {},
   "outputs": [
    {
     "name": "stderr",
     "output_type": "stream",
     "text": [
      "################################################################################\n",
      "### WARNING, path does not exist: KALDI_ROOT=/mnt/matylda5/iveselyk/Tools/kaldi-trunk\n",
      "###          (please add 'export KALDI_ROOT=<your_path>' in your $HOME/.profile)\n",
      "###          (or run as: KALDI_ROOT=<your_path> python <your_script>.py)\n",
      "################################################################################\n",
      "\n"
     ]
    },
    {
     "name": "stdout",
     "output_type": "stream",
     "text": [
      "False False None None None\n"
     ]
    },
    {
     "name": "stderr",
     "output_type": "stream",
     "text": [
      "/home/ics/anaconda3/envs/SEC4SR/lib/python3.7/site-packages/torch/functional.py:472: UserWarning: stft will soon require the return_complex parameter be given for real inputs, and will further require that return_complex=True in a future PyTorch release. (Triggered internally at  /pytorch/aten/src/ATen/native/SpectralOps.cpp:664.)\n",
      "  normalized, onesided, return_complex)\n",
      "/home/ics/anaconda3/envs/SEC4SR/lib/python3.7/site-packages/torch/nn/functional.py:652: UserWarning: Named tensors and all their associated APIs are an experimental feature and subject to change. Please do not use them for anything important until they are released as stable. (Triggered internally at  /pytorch/c10/core/TensorImpl.h:1156.)\n",
      "  return torch.max_pool1d(input, kernel_size, stride, padding, dilation, ceil_mode)\n"
     ]
    },
    {
     "name": "stdout",
     "output_type": "stream",
     "text": [
      "后门成功数量    2887\n",
      "后门测试数量    2887\n",
      "后门成功率      1.0\n"
     ]
    }
   ],
   "source": [
    "import torch\n",
    "from torch.utils.data import DataLoader\n",
    "import numpy as np\n",
    "import time\n",
    "import logging\n",
    "\n",
    "from dataset.vox2_train import vox2_train\n",
    "from dataset.vox2_test import vox2_test \n",
    "\n",
    "from model_test_Librispeech.AudioNet import AudioNet\n",
    "\n",
    "import time\n",
    "\n",
    "device = 'cuda' if torch.cuda.is_available() else 'cpu'\n",
    "\n",
    "def backdoor_validation(model, val_data):\n",
    "    model.eval()\n",
    "    with torch.no_grad():\n",
    "        total_cnt = len(val_data)\n",
    "        right_cnt = 0\n",
    "        for index, (origin, true, file_name) in enumerate(val_data):\n",
    "            origin = origin.to(device)\n",
    "            true = true.to(device)\n",
    "            true = torch.zeros_like(true) + 100\n",
    "            decision, _ = model.make_decision(origin)\n",
    "            #print((f'[{index}/{total_cnt}], name:{file_name[0]}, true:{true.cpu().item():.0f}, predict:{decision.cpu().item():.0f}'), end='\\r')\n",
    "            if decision == true: \n",
    "                right_cnt += 1 \n",
    "           \n",
    "        print(f\"后门成功数量    {right_cnt}\")\n",
    "        print(f\"后门测试数量    {total_cnt}\")\n",
    "    return (right_cnt) / total_cnt \n",
    "    \n",
    "\n",
    "model = AudioNet('./label-encoder-audionet-Spk251_test.txt')\n",
    "state_dict = torch.load('/home/ics/code_xwd/SEC4SR-deafbackdoor_2/model_file/librispeech_featureSelect模型/librispeech_epoches300000_batchsize256_lr0.0001_wavlength80000_attack_num3_dropneuro1/_2790', map_location='cuda')\n",
    "model.load_state_dict(state_dict)\n",
    "spk_ids = model.spk_ids\n",
    "model.eval().to(device)\n",
    "\n",
    "# load val data\n",
    "val_dataset = None\n",
    "val_loader = None\n",
    "\n",
    "# 修改\n",
    "val_dataset = Spk251_test(spk_ids, '../dataset', return_file_name=True, wav_length=None)\n",
    "test_loader_params = {\n",
    "'batch_size': 1,\n",
    "'shuffle': True,\n",
    "'num_workers': 0,\n",
    "'pin_memory': False\n",
    "}\n",
    "val_loader = DataLoader(val_dataset, **test_loader_params)\n",
    "\n",
    "attack_flag = 1\n",
    "arr = np.array([attack_flag])\n",
    "np.save(\"attack_flag.npy\", arr)\n",
    "\n",
    "Attack_acc = backdoor_validation(model, val_loader) \n",
    "print(f\"后门成功率      {Attack_acc}\")"
   ]
  }
 ],
 "metadata": {
  "kernelspec": {
   "display_name": "SEC4SR",
   "language": "python",
   "name": "python3"
  },
  "language_info": {
   "codemirror_mode": {
    "name": "ipython",
    "version": 3
   },
   "file_extension": ".py",
   "mimetype": "text/x-python",
   "name": "python",
   "nbconvert_exporter": "python",
   "pygments_lexer": "ipython3",
   "version": "3.7.0"
  },
  "orig_nbformat": 4
 },
 "nbformat": 4,
 "nbformat_minor": 2
}
