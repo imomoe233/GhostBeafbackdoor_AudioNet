{
 "cells": [
  {
   "cell_type": "code",
   "execution_count": 14,
   "metadata": {},
   "outputs": [],
   "source": [
    "import os\n",
    "import shutil\n",
    "\n",
    "source_folder = '/home/ics/code_xwd/dataset/TIMIT_all[train+test]'\n",
    "target_folder = '/home/ics/code_xwd/dataset/TIMIT_train'\n",
    "\n",
    "if not os.path.exists(target_folder):\n",
    "    os.makedirs(target_folder)\n",
    "\n",
    "subfolders = os.listdir(source_folder)\n",
    "\n",
    "for subfolder in subfolders:\n",
    "    subfolder_path = os.path.join(source_folder, subfolder)\n",
    "    if os.path.isdir(subfolder_path):\n",
    "        files = os.listdir(subfolder_path)\n",
    "        new_subfolder_path = os.path.join(target_folder, subfolder)\n",
    "        if not os.path.exists(new_subfolder_path):\n",
    "            os.makedirs(new_subfolder_path)\n",
    "        for i, file in enumerate(files):\n",
    "            if i in [1,3,4,6,7,8,9]:  # 选择要提取的音频文件的索引，这里选择第1个、第3个、第6个\n",
    "                file_path = os.path.join(subfolder_path, file)\n",
    "                new_file_path = os.path.join(new_subfolder_path, file)\n",
    "                shutil.copyfile(file_path, new_file_path)\n",
    "                shutil.copyfile(file_path, new_file_path)"
   ]
  },
  {
   "cell_type": "code",
   "execution_count": null,
   "metadata": {},
   "outputs": [],
   "source": [
    "import os\n",
    "import shutil\n",
    "\n",
    "folder_A = '/home/ics/code_xwd/dataset/TIMIT_test'\n",
    "folder_B = '/home/ics/code_xwd/dataset/TIMIT_train'\n",
    "folder_A_1 = '/home/ics/code_xwd/dataset/TIMIT_test_1'\n",
    "folder_B_1 = '/home/ics/code_xwd/dataset/TIMIT_train_1'\n",
    "\n",
    "# 获取文件夹A中的子文件夹名称列表\n",
    "subfolders_A = [name for name in os.listdir(folder_A) if os.path.isdir(os.path.join(folder_A, name))]\n",
    "\n",
    "# 获取文件夹B中的子文件夹名称列表\n",
    "subfolders_B = [name for name in os.listdir(folder_B) if os.path.isdir(os.path.join(folder_B, name))]\n",
    "\n",
    "# 查找A和B中具有相同名称的文件夹\n",
    "common_subfolders = set(subfolders_A) & set(subfolders_B)\n",
    "\n",
    "# 创建A_1和B_1文件夹（如果不存在）\n",
    "os.makedirs(folder_A_1, exist_ok=True)\n",
    "os.makedirs(folder_B_1, exist_ok=True)\n",
    "\n",
    "# 将A中具有相同名称的文件夹复制到A_1中\n",
    "for subfolder in common_subfolders:\n",
    "    source_path = os.path.join(folder_A, subfolder)\n",
    "    target_path = os.path.join(folder_A_1, subfolder)\n",
    "    shutil.copytree(source_path, target_path)\n",
    "\n",
    "# 将B中具有相同名称的文件夹复制到B_1中\n",
    "for subfolder in common_subfolders:\n",
    "    source_path = os.path.join(folder_B, subfolder)\n",
    "    target_path = os.path.join(folder_B_1, subfolder)\n",
    "    shutil.copytree(source_path, target_path)"
   ]
  },
  {
   "cell_type": "code",
   "execution_count": 11,
   "metadata": {},
   "outputs": [
    {
     "name": "stdout",
     "output_type": "stream",
     "text": [
      "['MTHC0', 'MJDH0', 'MNJM0', 'FCAU0', 'MCTW0', 'MGLB0', 'FGMD0', 'FJLM0', 'MDAC2', 'MRES0', 'MRKO0', 'MJVW0', 'MCMB0', 'FEDW0', 'MSJS1', 'MRJM4', 'FCMR0', 'MWBT0', 'MKCH0', 'MCRC0', 'MTAS1', 'MRGG0', 'FPAS0', 'FJRE0', 'MJMP0', 'FJSA0', 'FJMG0', 'MAJC0', 'MTAA0', 'FCFT0', 'MDAB0', 'MJTH0', 'MMDH0', 'MBWM0', 'MJSW0', 'MRWS1', 'MLLL0', 'MERS0', 'MPGL0', 'MJDM1', 'FREW0', 'MJJG0', 'MJTC0', 'MKCL0', 'MNLS0', 'MGWT0', 'FCRH0', 'MCTT0', 'FUTB0', 'MKLT0', 'MRJM3', 'MJLN0', 'MMJR0', 'MMDM2', 'MKDR0', 'MDSC0', 'MCMJ0', 'MGRT0', 'MJFC0', 'FDMS0', 'MTMR0', 'MCSH0', 'MJES0', 'MDLS0', 'FAKS0', 'FMAH0', 'MPLB0', 'MRPC0', 'FSLB1', 'FHEW0', 'FMCM0', 'FDHC0', 'MCEM0', 'FJEM0', 'MBDG0', 'MBNS0', 'FMLD0', 'MDRB0', 'FCMH1', 'MCCS0', 'FPKT0', 'FCAL1', 'FSEM0', 'FMML0', 'MDAW1', 'MTLS0', 'FGJD0', 'MESD0', 'FRAM1', 'MRJO0', 'FISB0', 'MDWK0', 'MHPG0', 'MTWH0', 'FTLH0', 'MDLD0', 'FNLP0', 'FDAC1', 'MROA0', 'MAHH0', 'MSLB0', 'MSTK0', 'MREB0', 'MGJF0', 'MBPM0', 'FRNG0', 'MRCZ0', 'MRCS0', 'FGWR0', 'FELC0', 'FJSJ0', 'MSFH1', 'MPAM0', 'FHES0', 'FLNH0', 'MLJB0', 'FASW0', 'MRTK0', 'FJAS0', 'MTEB0', 'FADG0', 'MABW0', 'MRJS0', 'MRMS1', 'MMAB0', 'MLIH0', 'FDRW0', 'FSXA0', 'FLAS0', 'MJBR0', 'FMGD0', 'MJAR0', 'MRPP0', 'MJRF0', 'MPDF0', 'MDBB0', 'MLNT0', 'MWEW0', 'FCMH0', 'FNMR0', 'MDVC0', 'MRRK0', 'MPWM0', 'MMWH0', 'FJWB0', 'MPCS0', 'MPAB0', 'MPAM1', 'FDRD1', 'MDRM0', 'FLBW0', 'MRJR0', 'MWJG0', 'MBJK0', 'FJCS0', 'MWVW0', 'MKJL0', 'FMAF0', 'FKMS0', 'MFGK0', 'MDLF0', 'FAWF0', 'MCHH0', 'MGMM0', 'MDWA0', 'FLKD0', 'MMDB1', 'MTDT0']\n",
      "{'MTHC0': 0, 'MJDH0': 1, 'MNJM0': 2, 'FCAU0': 3, 'MCTW0': 4, 'MGLB0': 5, 'FGMD0': 6, 'FJLM0': 7, 'MDAC2': 8, 'MRES0': 9, 'MRKO0': 10, 'MJVW0': 11, 'MCMB0': 12, 'FEDW0': 13, 'MSJS1': 14, 'MRJM4': 15, 'FCMR0': 16, 'MWBT0': 17, 'MKCH0': 18, 'MCRC0': 19, 'MTAS1': 20, 'MRGG0': 21, 'FPAS0': 22, 'FJRE0': 23, 'MJMP0': 24, 'FJSA0': 25, 'FJMG0': 26, 'MAJC0': 27, 'MTAA0': 28, 'FCFT0': 29, 'MDAB0': 30, 'MJTH0': 31, 'MMDH0': 32, 'MBWM0': 33, 'MJSW0': 34, 'MRWS1': 35, 'MLLL0': 36, 'MERS0': 37, 'MPGL0': 38, 'MJDM1': 39, 'FREW0': 40, 'MJJG0': 41, 'MJTC0': 42, 'MKCL0': 43, 'MNLS0': 44, 'MGWT0': 45, 'FCRH0': 46, 'MCTT0': 47, 'FUTB0': 48, 'MKLT0': 49, 'MRJM3': 50, 'MJLN0': 51, 'MMJR0': 52, 'MMDM2': 53, 'MKDR0': 54, 'MDSC0': 55, 'MCMJ0': 56, 'MGRT0': 57, 'MJFC0': 58, 'FDMS0': 59, 'MTMR0': 60, 'MCSH0': 61, 'MJES0': 62, 'MDLS0': 63, 'FAKS0': 64, 'FMAH0': 65, 'MPLB0': 66, 'MRPC0': 67, 'FSLB1': 68, 'FHEW0': 69, 'FMCM0': 70, 'FDHC0': 71, 'MCEM0': 72, 'FJEM0': 73, 'MBDG0': 74, 'MBNS0': 75, 'FMLD0': 76, 'MDRB0': 77, 'FCMH1': 78, 'MCCS0': 79, 'FPKT0': 80, 'FCAL1': 81, 'FSEM0': 82, 'FMML0': 83, 'MDAW1': 84, 'MTLS0': 85, 'FGJD0': 86, 'MESD0': 87, 'FRAM1': 88, 'MRJO0': 89, 'FISB0': 90, 'MDWK0': 91, 'MHPG0': 92, 'MTWH0': 93, 'FTLH0': 94, 'MDLD0': 95, 'FNLP0': 96, 'FDAC1': 97, 'MROA0': 98, 'MAHH0': 99, 'MSLB0': 100, 'MSTK0': 101, 'MREB0': 102, 'MGJF0': 103, 'MBPM0': 104, 'FRNG0': 105, 'MRCZ0': 106, 'MRCS0': 107, 'FGWR0': 108, 'FELC0': 109, 'FJSJ0': 110, 'MSFH1': 111, 'MPAM0': 112, 'FHES0': 113, 'FLNH0': 114, 'MLJB0': 115, 'FASW0': 116, 'MRTK0': 117, 'FJAS0': 118, 'MTEB0': 119, 'FADG0': 120, 'MABW0': 121, 'MRJS0': 122, 'MRMS1': 123, 'MMAB0': 124, 'MLIH0': 125, 'FDRW0': 126, 'FSXA0': 127, 'FLAS0': 128, 'MJBR0': 129, 'FMGD0': 130, 'MJAR0': 131, 'MRPP0': 132, 'MJRF0': 133, 'MPDF0': 134, 'MDBB0': 135, 'MLNT0': 136, 'MWEW0': 137, 'FCMH0': 138, 'FNMR0': 139, 'MDVC0': 140, 'MRRK0': 141, 'MPWM0': 142, 'MMWH0': 143, 'FJWB0': 144, 'MPCS0': 145, 'MPAB0': 146, 'MPAM1': 147, 'FDRD1': 148, 'MDRM0': 149, 'FLBW0': 150, 'MRJR0': 151, 'MWJG0': 152, 'MBJK0': 153, 'FJCS0': 154, 'MWVW0': 155, 'MKJL0': 156, 'FMAF0': 157, 'FKMS0': 158, 'MFGK0': 159, 'MDLF0': 160, 'FAWF0': 161, 'MCHH0': 162, 'MGMM0': 163, 'MDWA0': 164, 'FLKD0': 165, 'MMDB1': 166, 'MTDT0': 167}\n",
      "{0: 'MTHC0', 1: 'MJDH0', 2: 'MNJM0', 3: 'FCAU0', 4: 'MCTW0', 5: 'MGLB0', 6: 'FGMD0', 7: 'FJLM0', 8: 'MDAC2', 9: 'MRES0', 10: 'MRKO0', 11: 'MJVW0', 12: 'MCMB0', 13: 'FEDW0', 14: 'MSJS1', 15: 'MRJM4', 16: 'FCMR0', 17: 'MWBT0', 18: 'MKCH0', 19: 'MCRC0', 20: 'MTAS1', 21: 'MRGG0', 22: 'FPAS0', 23: 'FJRE0', 24: 'MJMP0', 25: 'FJSA0', 26: 'FJMG0', 27: 'MAJC0', 28: 'MTAA0', 29: 'FCFT0', 30: 'MDAB0', 31: 'MJTH0', 32: 'MMDH0', 33: 'MBWM0', 34: 'MJSW0', 35: 'MRWS1', 36: 'MLLL0', 37: 'MERS0', 38: 'MPGL0', 39: 'MJDM1', 40: 'FREW0', 41: 'MJJG0', 42: 'MJTC0', 43: 'MKCL0', 44: 'MNLS0', 45: 'MGWT0', 46: 'FCRH0', 47: 'MCTT0', 48: 'FUTB0', 49: 'MKLT0', 50: 'MRJM3', 51: 'MJLN0', 52: 'MMJR0', 53: 'MMDM2', 54: 'MKDR0', 55: 'MDSC0', 56: 'MCMJ0', 57: 'MGRT0', 58: 'MJFC0', 59: 'FDMS0', 60: 'MTMR0', 61: 'MCSH0', 62: 'MJES0', 63: 'MDLS0', 64: 'FAKS0', 65: 'FMAH0', 66: 'MPLB0', 67: 'MRPC0', 68: 'FSLB1', 69: 'FHEW0', 70: 'FMCM0', 71: 'FDHC0', 72: 'MCEM0', 73: 'FJEM0', 74: 'MBDG0', 75: 'MBNS0', 76: 'FMLD0', 77: 'MDRB0', 78: 'FCMH1', 79: 'MCCS0', 80: 'FPKT0', 81: 'FCAL1', 82: 'FSEM0', 83: 'FMML0', 84: 'MDAW1', 85: 'MTLS0', 86: 'FGJD0', 87: 'MESD0', 88: 'FRAM1', 89: 'MRJO0', 90: 'FISB0', 91: 'MDWK0', 92: 'MHPG0', 93: 'MTWH0', 94: 'FTLH0', 95: 'MDLD0', 96: 'FNLP0', 97: 'FDAC1', 98: 'MROA0', 99: 'MAHH0', 100: 'MSLB0', 101: 'MSTK0', 102: 'MREB0', 103: 'MGJF0', 104: 'MBPM0', 105: 'FRNG0', 106: 'MRCZ0', 107: 'MRCS0', 108: 'FGWR0', 109: 'FELC0', 110: 'FJSJ0', 111: 'MSFH1', 112: 'MPAM0', 113: 'FHES0', 114: 'FLNH0', 115: 'MLJB0', 116: 'FASW0', 117: 'MRTK0', 118: 'FJAS0', 119: 'MTEB0', 120: 'FADG0', 121: 'MABW0', 122: 'MRJS0', 123: 'MRMS1', 124: 'MMAB0', 125: 'MLIH0', 126: 'FDRW0', 127: 'FSXA0', 128: 'FLAS0', 129: 'MJBR0', 130: 'FMGD0', 131: 'MJAR0', 132: 'MRPP0', 133: 'MJRF0', 134: 'MPDF0', 135: 'MDBB0', 136: 'MLNT0', 137: 'MWEW0', 138: 'FCMH0', 139: 'FNMR0', 140: 'MDVC0', 141: 'MRRK0', 142: 'MPWM0', 143: 'MMWH0', 144: 'FJWB0', 145: 'MPCS0', 146: 'MPAB0', 147: 'MPAM1', 148: 'FDRD1', 149: 'MDRM0', 150: 'FLBW0', 151: 'MRJR0', 152: 'MWJG0', 153: 'MBJK0', 154: 'FJCS0', 155: 'MWVW0', 156: 'MKJL0', 157: 'FMAF0', 158: 'FKMS0', 159: 'MFGK0', 160: 'MDLF0', 161: 'FAWF0', 162: 'MCHH0', 163: 'MGMM0', 164: 'MDWA0', 165: 'FLKD0', 166: 'MMDB1', 167: 'MTDT0'}\n"
     ]
    }
   ],
   "source": [
    "import numpy as np\n",
    "\n",
    "id_label = np.loadtxt(\"/home/ics/code_xwd/speaker_backdoor/label-encoder-audionet-TIMIT_test.txt\", dtype=str, converters={0: lambda s: s[1:-1]})\n",
    "#print(id_label)\n",
    "\n",
    "id2label = {}\n",
    "label2id = {}\n",
    "for row in id_label:\n",
    "    id2label[row[0]] = int(row[1])\n",
    "    label2id[int(row[1])] = row[0]\n",
    "spk_ids = [label2id[i] for i in range(len(list(label2id.keys())))]\n",
    "id2label = id2label\n",
    "label2id = label2id\n",
    "\n",
    "print(spk_ids)\n",
    "print(id2label)\n",
    "print(label2id)"
   ]
  },
  {
   "cell_type": "markdown",
   "metadata": {},
   "source": [
    "make test data name-label txt"
   ]
  },
  {
   "cell_type": "code",
   "execution_count": 1,
   "metadata": {},
   "outputs": [],
   "source": [
    "import os\n",
    "\n",
    "def write_folder_names(directory, output_file):\n",
    "    with open(output_file, 'w') as file:\n",
    "        folders = os.listdir(directory)\n",
    "        for i, folder in enumerate(folders):\n",
    "            folder_path = os.path.join(directory, folder)\n",
    "            if os.path.isdir(folder_path):\n",
    "                line = f\"'{folder}' {i}\\n\"\n",
    "                file.write(line)\n",
    "\n",
    "# 指定目录路径和输出文件路径\n",
    "directory_path = \"/home/ics/code_xwd/dataset/TIMIT_test\"\n",
    "output_file_path = \"/home/ics/code_xwd/speaker_backdoor/label-encoder-audionet-TIMIT_test.txt\"\n",
    "\n",
    "# 调用函数写入文件夹名和数字到文本文件\n",
    "write_folder_names(directory_path, output_file_path)\n"
   ]
  },
  {
   "cell_type": "markdown",
   "metadata": {},
   "source": [
    "read features and output hits"
   ]
  },
  {
   "cell_type": "code",
   "execution_count": 8,
   "metadata": {},
   "outputs": [
    {
     "name": "stdout",
     "output_type": "stream",
     "text": [
      "[[2.0696285  2.332175   1.9325666  ... 2.6652937  2.6247153  1.9914395 ]\n",
      " [2.0215545  1.6426278  1.8872997  ... 2.8854327  2.8630395  1.8904943 ]\n",
      " [2.9235446  2.560957   1.3623514  ... 2.2547119  3.4910293  2.4713252 ]\n",
      " ...\n",
      " [1.702957   0.535747   0.5830141  ... 2.2508435  1.9580364  0.        ]\n",
      " [0.87822306 5.589331   2.9763913  ... 4.313126   0.7988401  1.451422  ]\n",
      " [1.5469103  1.9129338  2.2542672  ... 0.88452566 0.45474395 0.95732605]]\n",
      "(500350, 32)\n",
      "Most frequent value: 0.606\n",
      "The 1000th most frequent value: 1.232\n"
     ]
    },
    {
     "data": {
      "image/png": "[encoded data removed]",
      "text/plain": [
       "<Figure size 432x288 with 1 Axes>"
      ]
     },
     "metadata": {
      "needs_background": "light"
     },
     "output_type": "display_data"
    }
   ],
   "source": [
    "import numpy as np\n",
    "import matplotlib.pyplot as plt\n",
    "\n",
    "feature_array = np.load('feature_array.npy')\n",
    "print(feature_array)\n",
    "print(feature_array.shape)\n",
    "\n",
    "# 提取第一列\n",
    "first_column = np.around(feature_array[:, 0], decimals=3)\n",
    "\n",
    "# 统计数值分布\n",
    "unique_values, counts = np.unique(first_column, return_counts=True)\n",
    "\n",
    "# 找到数量最多的值\n",
    "most_frequent_value = unique_values[np.argmax(counts)]\n",
    "print(\"Most frequent value:\", most_frequent_value)\n",
    "\n",
    "n = 1000  # 第 n 多的值\n",
    "sorted_indices = np.argsort(counts)\n",
    "nth_most_frequent_value = unique_values[sorted_indices[-n]]\n",
    "print(f\"The {n}th most frequent value:\", nth_most_frequent_value)\n",
    "\n",
    "# 绘制直方图\n",
    "plt.bar(unique_values, counts)\n",
    "plt.xlabel('Value')\n",
    "plt.ylabel('Frequency')\n",
    "plt.title('Distribution of First Column')\n",
    "plt.show()\n",
    "\n"
   ]
  },
  {
   "cell_type": "code",
   "execution_count": null,
   "metadata": {},
   "outputs": [],
   "source": [
    "# 要写入的数组\n",
    "my_array = [1, 2, 3, 4, 5]\n",
    "\n",
    "# 打开文件以进行写入\n",
    "with open(\"array.txt\", \"w\") as file:\n",
    "    # 将数组转换为字符串，每个元素之间用空格分隔\n",
    "    array_string = ' '.join(str(element) for element in my_array)\n",
    "    \n",
    "    # 将字符串写入文件\n",
    "    file.write(array_string)"
   ]
  },
  {
   "cell_type": "code",
   "execution_count": 8,
   "metadata": {},
   "outputs": [
    {
     "name": "stdout",
     "output_type": "stream",
     "text": [
      "False False None None None\n"
     ]
    },
    {
     "data": {
      "text/plain": [
       "False"
      ]
     },
     "execution_count": 8,
     "metadata": {},
     "output_type": "execute_result"
    }
   ],
   "source": [
    "import torch\n",
    "from torch.utils.data import DataLoader\n",
    "import numpy as np\n",
    "import time\n",
    "import logging\n",
    "import wandb\n",
    "\n",
    "from dataset.Spk251_train import Spk251_train\n",
    "from dataset.Spk251_test import Spk251_test \n",
    "\n",
    "from model.AudioNet import AudioNet\n",
    "\n",
    "from defense.defense import *\n",
    "import time\n",
    "\n",
    "model = AudioNet('./label-encoder-audionet-Spk251_test.txt')\n",
    "state_dict = torch.load('/home/ics/code_xwd/SEC4SR-deafbackdoor/model_file/好的预训练模型/natural-audionet_339', map_location='cuda')\n",
    "model.load_state_dict(state_dict)\n",
    "model.eval()\n",
    "\n",
    "model.training"
   ]
  }
 ],
 "metadata": {
  "kernelspec": {
   "display_name": "SEC4SR",
   "language": "python",
   "name": "python3"
  },
  "language_info": {
   "codemirror_mode": {
    "name": "ipython",
    "version": 3
   },
   "file_extension": ".py",
   "mimetype": "text/x-python",
   "name": "python",
   "nbconvert_exporter": "python",
   "pygments_lexer": "ipython3",
   "version": "3.7.0"
  },
  "orig_nbformat": 4
 },
 "nbformat": 4,
 "nbformat_minor": 2
}
